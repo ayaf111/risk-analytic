{
 "cells": [
  {
   "cell_type": "code",
   "execution_count": 5,
   "id": "adbaf4b6",
   "metadata": {},
   "outputs": [
    {
     "name": "stderr",
     "output_type": "stream",
     "text": [
      "C:\\Users\\Student\\AppData\\Local\\Temp\\ipykernel_34068\\3713882454.py:5: DtypeWarning: Columns (32,37) have mixed types. Specify dtype option on import or set low_memory=False.\n",
      "  df = pd.read_csv(\"C:/Users/Student/Documents/kaim documents/week 3/MachineLearningRating_v3/MachineLearningRating_v3.txt\", delimiter='|')\n"
     ]
    },
    {
     "name": "stdout",
     "output_type": "stream",
     "text": [
      "Index(['underwrittencoverid', 'policyid', 'transactionmonth',\n",
      "       'isvatregistered', 'citizenship', 'legaltype', 'title', 'language',\n",
      "       'bank', 'accounttype', 'maritalstatus', 'gender', 'country', 'province',\n",
      "       'postalcode', 'maincrestazone', 'subcrestazone', 'itemtype', 'mmcode',\n",
      "       'vehicletype', 'registrationyear', 'make', 'model', 'cylinders',\n",
      "       'cubiccapacity', 'kilowatts', 'bodytype', 'numberofdoors',\n",
      "       'vehicleintrodate', 'customvalueestimate', 'alarmimmobiliser',\n",
      "       'trackingdevice', 'capitaloutstanding', 'newvehicle', 'writtenoff',\n",
      "       'rebuilt', 'converted', 'crossborder', 'numberofvehiclesinfleet',\n",
      "       'suminsured', 'termfrequency', 'calculatedpremiumperterm',\n",
      "       'excessselected', 'covercategory', 'covertype', 'covergroup', 'section',\n",
      "       'product', 'statutoryclass', 'statutoryrisktype', 'totalpremium',\n",
      "       'totalclaims'],\n",
      "      dtype='object')\n"
     ]
    }
   ],
   "source": [
    "import pandas as pd\n",
    "from scipy.stats import chi2_contingency, ttest_ind\n",
    "\n",
    "# Load your data\n",
    "df = pd.read_csv(\"C:/Users/Student/Documents/kaim documents/week 3/MachineLearningRating_v3/MachineLearningRating_v3.txt\", delimiter='|')\n",
    "\n",
    "# Clean column names\n",
    "df.columns = df.columns.str.strip().str.lower()\n",
    "print(df.columns)\n",
    "\n",
    "# Create binary flag for claim (Claim Frequency)\n",
    "df['had_claim'] = df['totalclaims'] > 0\n",
    "\n",
    "# Claim Severity (only for those with claims)\n",
    "df_claims_only = df[df['had_claim'] == True]\n",
    "\n",
    "# Margin\n",
    "df['margin'] = df['totalpremium'] - df['totalclaims']\n"
   ]
  },
  {
   "cell_type": "code",
   "execution_count": 6,
   "id": "899b19d5",
   "metadata": {},
   "outputs": [
    {
     "name": "stdout",
     "output_type": "stream",
     "text": [
      "Province vs Claim Frequency p-value: 0.0000\n"
     ]
    }
   ],
   "source": [
    "contingency = pd.crosstab(df['province'], df['had_claim'])\n",
    "chi2, p, _, _ = chi2_contingency(contingency)\n",
    "print(f\"Province vs Claim Frequency p-value: {p:.4f}\")\n"
   ]
  },
  {
   "cell_type": "code",
   "execution_count": 12,
   "id": "d17aaebb",
   "metadata": {},
   "outputs": [
    {
     "name": "stdout",
     "output_type": "stream",
     "text": [
      "Province vs Claim Severity p-value: 0.0306\n"
     ]
    }
   ],
   "source": [
    "province_A = df_claims_only[df_claims_only['province'] == 'Western Cape']['totalclaims']\n",
    "province_B = df_claims_only[df_claims_only['province'] == 'Gauteng']['totalclaims']\n",
    "\n",
    "t_stat, p = ttest_ind(province_A, province_B, equal_var=False)\n",
    "print(f\"Province vs Claim Severity p-value: {p:.4f}\")\n"
   ]
  },
  {
   "cell_type": "code",
   "execution_count": 15,
   "id": "63626cbc",
   "metadata": {},
   "outputs": [
    {
     "name": "stdout",
     "output_type": "stream",
     "text": [
      "Group A (Postal Code 2000) count: 486\n",
      "Group B (Postal Code 122) count: 210\n",
      "Postal Code vs Claim Severity p-value: 0.7002\n",
      "❌ Fail to reject the null — no significant difference.\n"
     ]
    }
   ],
   "source": [
    "# Filter claim severity for two postal codes\n",
    "zip_A = df_claims_only[df_claims_only['postalcode'] == 2000]['totalclaims']\n",
    "zip_B = df_claims_only[df_claims_only['postalcode'] == 122]['totalclaims']\n",
    "\n",
    "# Check sizes\n",
    "print(\"Group A (Postal Code 2000) count:\", len(zip_A))\n",
    "print(\"Group B (Postal Code 122) count:\", len(zip_B))\n",
    "\n",
    "# Run t-test only if both groups have enough data\n",
    "if len(zip_A) >= 2 and len(zip_B) >= 2:\n",
    "    from scipy.stats import ttest_ind\n",
    "    t_stat, p = ttest_ind(zip_A, zip_B, equal_var=False)\n",
    "    print(f\"Postal Code vs Claim Severity p-value: {p:.4f}\")\n",
    "    \n",
    "    # Optional: interpret the result\n",
    "    if p < 0.05:\n",
    "        print(\"✅ Reject the null hypothesis — significant difference in claim severity between postal codes.\")\n",
    "    else:\n",
    "        print(\"❌ Fail to reject the null — no significant difference.\")\n",
    "else:\n",
    "    print(\"⚠️ Not enough data in one of the groups for valid t-test.\")\n",
    "\n",
    "\n"
   ]
  },
  {
   "cell_type": "code",
   "execution_count": 10,
   "id": "ad627f0f",
   "metadata": {},
   "outputs": [
    {
     "name": "stdout",
     "output_type": "stream",
     "text": [
      "(0,) (0,)\n"
     ]
    }
   ],
   "source": [
    "print(zip_A.shape, zip_B.shape)"
   ]
  },
  {
   "cell_type": "code",
   "execution_count": 13,
   "id": "b6cf2cf5",
   "metadata": {},
   "outputs": [
    {
     "name": "stdout",
     "output_type": "stream",
     "text": [
      "postalcode\n",
      "2000    486\n",
      "122     210\n",
      "299      67\n",
      "8000     51\n",
      "7784     50\n",
      "1863     44\n",
      "470      44\n",
      "400      34\n",
      "458      32\n",
      "2196     32\n",
      "Name: count, dtype: int64\n"
     ]
    }
   ],
   "source": [
    "# Show top zip codes where there are claims\n",
    "print(df_claims_only['postalcode'].value_counts().head(10))\n"
   ]
  },
  {
   "cell_type": "code",
   "execution_count": 16,
   "id": "de1bbb62",
   "metadata": {},
   "outputs": [
    {
     "name": "stdout",
     "output_type": "stream",
     "text": [
      "Gender vs Claim Frequency p-value: 0.0266\n"
     ]
    }
   ],
   "source": [
    "contingency_gender = pd.crosstab(df['gender'], df['had_claim'])\n",
    "chi2, p, _, _ = chi2_contingency(contingency_gender)\n",
    "print(f\"Gender vs Claim Frequency p-value: {p:.4f}\")\n"
   ]
  },
  {
   "cell_type": "code",
   "execution_count": 17,
   "id": "d2abd986",
   "metadata": {},
   "outputs": [
    {
     "name": "stdout",
     "output_type": "stream",
     "text": [
      "Claim Frequency by Gender (p): 0.0266\n",
      "Claim Severity by Gender (p): 0.5680\n",
      "Margin by Gender (p): 0.8015\n",
      "Claim Severity by Postal Code (p): 0.7002\n",
      "Claim Frequency by Province (p): 0.0000\n"
     ]
    }
   ],
   "source": [
    "import pandas as pd\n",
    "import numpy as np\n",
    "from scipy.stats import chi2_contingency, ttest_ind\n",
    "\n",
    "# Load your data\n",
    "\n",
    "\n",
    "# Create derived columns\n",
    "df['Had_Claim'] = df['totalclaims'] > 0\n",
    "df['margin'] = df['totalpremium'] - df['totalclaims']\n",
    "\n",
    "# === Gender-based Analysis ===\n",
    "group_male = df[df['gender'] == 'Male']\n",
    "group_female = df[df['gender'] == 'Female']\n",
    "\n",
    "# Claim Frequency (Chi-squared)\n",
    "claim_freq_table = pd.crosstab(df['gender'], df['Had_Claim'])\n",
    "chi2, p_freq_gender, _, _ = chi2_contingency(claim_freq_table)\n",
    "\n",
    "# Claim Severity (T-test)\n",
    "severity_m = group_male[group_male['totalclaims'] > 0]['totalclaims']\n",
    "severity_f = group_female[group_female['totalclaims'] > 0]['totalclaims']\n",
    "_, p_sev_gender = ttest_ind(severity_m, severity_f, equal_var=False)\n",
    "\n",
    "# Margin (T-test)\n",
    "_, p_margin_gender = ttest_ind(group_male['margin'], group_female['margin'], equal_var=False)\n",
    "\n",
    "# === Postal Code-based Analysis ===\n",
    "df_claims_only = df[df['totalclaims'] > 0]\n",
    "top_postals = df_claims_only['postalcode'].value_counts().head(10).index.tolist()\n",
    "zip_A = df_claims_only[df_claims_only['postalcode'] == top_postals[0]]['totalclaims']\n",
    "zip_B = df_claims_only[df_claims_only['postalcode'] == top_postals[1]]['totalclaims']\n",
    "\n",
    "if len(zip_A) >= 2 and len(zip_B) >= 2:\n",
    "    _, p_postal = ttest_ind(zip_A, zip_B, equal_var=False)\n",
    "else:\n",
    "    p_postal = np.nan\n",
    "\n",
    "# === Province-based Analysis ===\n",
    "claim_freq_province = pd.crosstab(df['province'], df['Had_Claim'])\n",
    "_, p_freq_province, _, _ = chi2_contingency(claim_freq_province)\n",
    "\n",
    "# === Summary Output ===\n",
    "results = {\n",
    "    \"Claim Frequency by Gender (p)\": p_freq_gender,\n",
    "    \"Claim Severity by Gender (p)\": p_sev_gender,\n",
    "    \"Margin by Gender (p)\": p_margin_gender,\n",
    "    \"Claim Severity by Postal Code (p)\": p_postal,\n",
    "    \"Claim Frequency by Province (p)\": p_freq_province\n",
    "}\n",
    "\n",
    "for key, value in results.items():\n",
    "    print(f\"{key}: {value:.4f}\" if pd.notna(value) else f\"{key}: Not enough data\")\n"
   ]
  }
 ],
 "metadata": {
  "kernelspec": {
   "display_name": "env",
   "language": "python",
   "name": "python3"
  },
  "language_info": {
   "codemirror_mode": {
    "name": "ipython",
    "version": 3
   },
   "file_extension": ".py",
   "mimetype": "text/x-python",
   "name": "python",
   "nbconvert_exporter": "python",
   "pygments_lexer": "ipython3",
   "version": "3.11.8"
  }
 },
 "nbformat": 4,
 "nbformat_minor": 5
}
